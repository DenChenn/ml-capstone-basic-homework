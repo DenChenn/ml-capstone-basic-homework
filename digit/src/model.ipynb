{
 "cells": [
  {
   "cell_type": "code",
   "execution_count": 4,
   "metadata": {
    "collapsed": true
   },
   "outputs": [],
   "source": [
    "from sklearn.datasets import load_digits\n",
    "from sklearn.model_selection import train_test_split"
   ]
  },
  {
   "cell_type": "markdown",
   "source": [
    "## Load Open Dataset"
   ],
   "metadata": {
    "collapsed": false,
    "pycharm": {
     "name": "#%% md\n"
    }
   }
  },
  {
   "cell_type": "code",
   "execution_count": 5,
   "outputs": [],
   "source": [
    "# load dataset\n",
    "digits = load_digits()\n",
    "\n",
    "X = digits.data\n",
    "y = digits.target\n"
   ],
   "metadata": {
    "collapsed": false,
    "pycharm": {
     "name": "#%%\n"
    }
   }
  },
  {
   "cell_type": "markdown",
   "source": [
    "## Split Dataset"
   ],
   "metadata": {
    "collapsed": false,
    "pycharm": {
     "name": "#%% md\n"
    }
   }
  },
  {
   "cell_type": "code",
   "execution_count": 6,
   "outputs": [],
   "source": [
    "X_train, X_test, y_train, y_test = train_test_split(X, y, test_size=0.25, random_state=0)"
   ],
   "metadata": {
    "collapsed": false,
    "pycharm": {
     "name": "#%%\n"
    }
   }
  },
  {
   "cell_type": "markdown",
   "source": [
    "## Train Dataset"
   ],
   "metadata": {
    "collapsed": false,
    "pycharm": {
     "name": "#%% md\n"
    }
   }
  },
  {
   "cell_type": "code",
   "execution_count": 7,
   "outputs": [
    {
     "data": {
      "text/plain": "OneVsRestClassifier(estimator=KNeighborsClassifier())"
     },
     "execution_count": 7,
     "metadata": {},
     "output_type": "execute_result"
    }
   ],
   "source": [
    "from sklearn.multiclass import OneVsRestClassifier\n",
    "from sklearn.neighbors import KNeighborsClassifier\n",
    "\n",
    "knn = OneVsRestClassifier(KNeighborsClassifier())\n",
    "knn.fit(X_train,y_train)\n"
   ],
   "metadata": {
    "collapsed": false,
    "pycharm": {
     "name": "#%%\n"
    }
   }
  },
  {
   "cell_type": "markdown",
   "source": [
    "## Predict testing set"
   ],
   "metadata": {
    "collapsed": false,
    "pycharm": {
     "name": "#%% md\n"
    }
   }
  },
  {
   "cell_type": "code",
   "execution_count": 8,
   "outputs": [],
   "source": [
    "predictions = knn.predict(X_test)"
   ],
   "metadata": {
    "collapsed": false,
    "pycharm": {
     "name": "#%%\n"
    }
   }
  },
  {
   "cell_type": "markdown",
   "source": [
    "## Analysis"
   ],
   "metadata": {
    "collapsed": false,
    "pycharm": {
     "name": "#%% md\n"
    }
   }
  },
  {
   "cell_type": "code",
   "execution_count": 9,
   "outputs": [
    {
     "name": "stdout",
     "output_type": "stream",
     "text": [
      "+-----------------------------------+----------+--------------------+--------------------+\n",
      "|          Confusion Matrix         | Accuracy |       Recall       |     Precision      |\n",
      "+-----------------------------------+----------+--------------------+--------------------+\n",
      "|  [[37  0  0  0  0  0  0  0  0  0] |   0.98   | 0.9802257861434207 | 0.9815220679396368 |\n",
      "|   [ 0 42  0  0  0  1  0  0  0  0] |          |                    |                    |\n",
      "|   [ 0  0 43  0  0  0  0  1  0  0] |          |                    |                    |\n",
      "|   [ 0  0  0 45  0  0  0  0  0  0] |          |                    |                    |\n",
      "|   [ 0  0  0  0 37  0  0  1  0  0] |          |                    |                    |\n",
      "|   [ 0  0  0  0  0 47  0  0  0  1] |          |                    |                    |\n",
      "|   [ 0  0  0  0  0  0 52  0  0  0] |          |                    |                    |\n",
      "|   [ 0  0  0  0  0  0  0 48  0  0] |          |                    |                    |\n",
      "|   [ 0  1  0  1  0  0  1  1 44  0] |          |                    |                    |\n",
      "|  [ 0  0  0  0  0  1  0  0  0 46]] |          |                    |                    |\n",
      "+-----------------------------------+----------+--------------------+--------------------+\n"
     ]
    }
   ],
   "source": [
    "from sklearn.metrics import confusion_matrix, accuracy_score, recall_score, precision_score\n",
    "from prettytable import PrettyTable\n",
    "\n",
    "cm = confusion_matrix(y_test, predictions)\n",
    "acc = accuracy_score(y_test, predictions)\n",
    "rc = recall_score(y_test, predictions, average='macro')\n",
    "pcs = precision_score(y_test, predictions, average='macro')\n",
    "\n",
    "# print table\n",
    "x = PrettyTable()\n",
    "\n",
    "x.field_names = [\"Confusion Matrix\", \"Accuracy\", \"Recall\", \"Precision\"]\n",
    "x.add_row([cm, acc, rc, pcs])\n",
    "print(x)"
   ],
   "metadata": {
    "collapsed": false,
    "pycharm": {
     "name": "#%%\n"
    }
   }
  },
  {
   "cell_type": "code",
   "execution_count": null,
   "outputs": [],
   "source": [],
   "metadata": {
    "collapsed": false,
    "pycharm": {
     "name": "#%%\n"
    }
   }
  }
 ],
 "metadata": {
  "kernelspec": {
   "display_name": "Python 3",
   "language": "python",
   "name": "python3"
  },
  "language_info": {
   "codemirror_mode": {
    "name": "ipython",
    "version": 2
   },
   "file_extension": ".py",
   "mimetype": "text/x-python",
   "name": "python",
   "nbconvert_exporter": "python",
   "pygments_lexer": "ipython2",
   "version": "2.7.6"
  }
 },
 "nbformat": 4,
 "nbformat_minor": 0
}